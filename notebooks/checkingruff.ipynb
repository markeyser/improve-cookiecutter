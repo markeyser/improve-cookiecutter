{
 "cells": [
  {
   "cell_type": "code",
   "execution_count": 2,
   "metadata": {},
   "outputs": [
    {
     "ename": "NameError",
     "evalue": "name 'nam' is not defined",
     "output_type": "error",
     "traceback": [
      "\u001b[0;31m---------------------------------------------------------------------------\u001b[0m",
      "\u001b[0;31mNameError\u001b[0m                                 Traceback (most recent call last)",
      "Cell \u001b[0;32mIn[2], line 25\u001b[0m\n\u001b[1;32m     21\u001b[0m     \u001b[39m# Unused import\u001b[39;00m\n\u001b[1;32m     22\u001b[0m     os\u001b[39m.\u001b[39msystem(\u001b[39m\"\u001b[39m\u001b[39mclear\u001b[39m\u001b[39m\"\u001b[39m)\n\u001b[0;32m---> 25\u001b[0m mainfunction()\n",
      "Cell \u001b[0;32mIn[2], line 10\u001b[0m, in \u001b[0;36mmainfunction\u001b[0;34m()\u001b[0m\n\u001b[1;32m      5\u001b[0m \u001b[39minput\u001b[39m(\n\u001b[1;32m      6\u001b[0m     \u001b[39m\"\u001b[39m\u001b[39mWhat is your name? \u001b[39m\u001b[39m\"\u001b[39m\n\u001b[1;32m      7\u001b[0m )  \u001b[39m# Using a space at the end of the variable name\u001b[39;00m\n\u001b[1;32m      9\u001b[0m \u001b[39m# Using an undefined variable\u001b[39;00m\n\u001b[0;32m---> 10\u001b[0m \u001b[39mprint\u001b[39m(\u001b[39m\"\u001b[39m\u001b[39mHello, \u001b[39m\u001b[39m\"\u001b[39m \u001b[39m+\u001b[39m nam)\n\u001b[1;32m     12\u001b[0m \u001b[39m# No whitespace after comma\u001b[39;00m\n\u001b[1;32m     13\u001b[0m \u001b[39mfor\u001b[39;00m i \u001b[39min\u001b[39;00m \u001b[39mrange\u001b[39m(\u001b[39m0\u001b[39m, \u001b[39m10\u001b[39m):\n",
      "\u001b[0;31mNameError\u001b[0m: name 'nam' is not defined"
     ]
    }
   ],
   "source": [
    "import os\n",
    "\n",
    "\n",
    "def mainfunction():\n",
    "    input(\n",
    "        \"What is your name? \"\n",
    "    )  # Using a space at the end of the variable name\n",
    "\n",
    "    # Using an undefined variable\n",
    "    print(\"Hello, \" + sdf)\n",
    "\n",
    "    # No whitespace after comma\n",
    "    for i in range(0, 10):\n",
    "        print(i, end=\"\")\n",
    "\n",
    "    # Not following PEP8's recommendation for maximum line length\n",
    "    print(\n",
    "        \"This is a really, really, really, really, really, really, really, really, really, really, really, really, really, really, really, really, long line of code.\"\n",
    "    )\n",
    "\n",
    "    # Unused import\n",
    "    os.system(\"clear\")\n",
    "\n",
    "\n",
    "mainfunction()"
   ]
  },
  {
   "cell_type": "code",
   "execution_count": 1,
   "metadata": {},
   "outputs": [],
   "source": [
    "def anatolia():\n",
    "    return 5 + b"
   ]
  },
  {
   "cell_type": "code",
   "execution_count": 2,
   "metadata": {},
   "outputs": [
    {
     "ename": "TypeError",
     "evalue": "anatolia() takes 0 positional arguments but 1 was given",
     "output_type": "error",
     "traceback": [
      "\u001b[0;31m---------------------------------------------------------------------------\u001b[0m",
      "\u001b[0;31mTypeError\u001b[0m                                 Traceback (most recent call last)",
      "Cell \u001b[0;32mIn[2], line 1\u001b[0m\n\u001b[0;32m----> 1\u001b[0m anatolia(\u001b[39m5\u001b[39;49m)\n",
      "\u001b[0;31mTypeError\u001b[0m: anatolia() takes 0 positional arguments but 1 was given"
     ]
    }
   ],
   "source": [
    "anatolia(5)"
   ]
  },
  {
   "cell_type": "code",
   "execution_count": null,
   "metadata": {},
   "outputs": [],
   "source": []
  }
 ],
 "metadata": {
  "kernelspec": {
   "display_name": "venv",
   "language": "python",
   "name": "python3"
  },
  "language_info": {
   "codemirror_mode": {
    "name": "ipython",
    "version": 3
   },
   "file_extension": ".py",
   "mimetype": "text/x-python",
   "name": "python",
   "nbconvert_exporter": "python",
   "pygments_lexer": "ipython3",
   "version": "3.11.1"
  },
  "orig_nbformat": 4
 },
 "nbformat": 4,
 "nbformat_minor": 2
}
